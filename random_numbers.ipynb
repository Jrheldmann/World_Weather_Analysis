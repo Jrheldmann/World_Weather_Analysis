{
 "cells": [
  {
   "cell_type": "code",
   "execution_count": 9,
   "id": "15bd77ad",
   "metadata": {},
   "outputs": [],
   "source": [
    "# Import the random module.\n",
    "import random"
   ]
  },
  {
   "cell_type": "code",
   "execution_count": 2,
   "id": "3d3f8171",
   "metadata": {},
   "outputs": [
    {
     "data": {
      "text/plain": [
       "-27"
      ]
     },
     "execution_count": 2,
     "metadata": {},
     "output_type": "execute_result"
    }
   ],
   "source": [
    "# Generate random integer between -90 and 90\n",
    "random.randint(-90, 90)"
   ]
  },
  {
   "cell_type": "code",
   "execution_count": 14,
   "id": "3975890c",
   "metadata": {},
   "outputs": [
    {
     "data": {
      "text/plain": [
       "0.6121252158543585"
      ]
     },
     "execution_count": 14,
     "metadata": {},
     "output_type": "execute_result"
    }
   ],
   "source": [
    "# Generate random decimal between 0 and 1.0\n",
    "random.random()"
   ]
  },
  {
   "cell_type": "code",
   "execution_count": 7,
   "id": "1583ba60",
   "metadata": {},
   "outputs": [
    {
     "data": {
      "text/plain": [
       "-68.02934683154312"
      ]
     },
     "execution_count": 7,
     "metadata": {},
     "output_type": "execute_result"
    }
   ],
   "source": [
    "# Create a variable to output random float between -90 and 90 (degree and minute)\n",
    "random_number = random.randint(-90,89) + random.random()\n",
    "random_number"
   ]
  },
  {
   "cell_type": "code",
   "execution_count": 13,
   "id": "9b2d55b1",
   "metadata": {},
   "outputs": [
    {
     "data": {
      "text/plain": [
       "[14.212683231015951,\n",
       " -19.438886796323665,\n",
       " 69.22839662461527,\n",
       " -16.768340440220918,\n",
       " -55.26381766167081,\n",
       " -70.75048416916357,\n",
       " 27.83880071081374,\n",
       " -79.55867456469488,\n",
       " -12.550597341915894,\n",
       " -65.895269195231]"
      ]
     },
     "execution_count": 13,
     "metadata": {},
     "output_type": "execute_result"
    }
   ],
   "source": [
    "# Loop the random_nummber to get 10 results\n",
    "x = 1\n",
    "latitudes = []\n",
    "while x < 11:\n",
    "    random_lat = random.randint(-90,89) + random.random()\n",
    "    latitudes.append(random_lat)\n",
    "    x += 1\n",
    "latitudes"
   ]
  },
  {
   "cell_type": "code",
   "execution_count": 15,
   "id": "419bc23d",
   "metadata": {},
   "outputs": [
    {
     "data": {
      "text/plain": [
       "-72.8437478044701"
      ]
     },
     "execution_count": 15,
     "metadata": {},
     "output_type": "execute_result"
    }
   ],
   "source": [
    "random.uniform(-90, 90)"
   ]
  },
  {
   "cell_type": "code",
   "execution_count": 16,
   "id": "7e304b45",
   "metadata": {},
   "outputs": [],
   "source": [
    "# Import the NumPy module.\n",
    "import numpy as np"
   ]
  },
  {
   "cell_type": "code",
   "execution_count": 18,
   "id": "e204a920",
   "metadata": {},
   "outputs": [
    {
     "data": {
      "text/plain": [
       "-63.71626363166473"
      ]
     },
     "execution_count": 18,
     "metadata": {},
     "output_type": "execute_result"
    }
   ],
   "source": [
    "# NumPy module better than random (redundant, no both) sets low and high limit for floats\n",
    "np.random.uniform(-90.000, 90.000)"
   ]
  },
  {
   "cell_type": "code",
   "execution_count": 19,
   "id": "c5c68898",
   "metadata": {},
   "outputs": [
    {
     "data": {
      "text/plain": [
       "7.094032554234815"
      ]
     },
     "execution_count": 19,
     "metadata": {},
     "output_type": "execute_result"
    }
   ],
   "source": [
    "# Alternative write method\n",
    "np.random.uniform(low=-90, high=90)"
   ]
  },
  {
   "cell_type": "code",
   "execution_count": 20,
   "id": "1bb42b57",
   "metadata": {},
   "outputs": [
    {
     "data": {
      "text/plain": [
       "array([-81.25606593, -49.85062967, -87.41337406,  16.78024117,\n",
       "       -58.91353929,  50.5148045 , -23.20932454, -22.09998966,\n",
       "       -19.05830381,  21.32538179,  18.92040365,  -4.07359032,\n",
       "         1.64236963, -32.27844304, -56.80430895, -29.92322852,\n",
       "         6.75318145, -11.17350508, -17.1974628 ,  44.10550595,\n",
       "        -6.06701668,   1.6644358 , -58.27228866, -72.41518418,\n",
       "        75.99537435,  60.89550419,  47.53354427,   3.80444234,\n",
       "        19.02065313, -55.40801094, -67.06272263, -68.45552549,\n",
       "       -59.06005684,   8.98203991, -84.93884954,  -0.24696593,\n",
       "       -88.52871197, -12.90410383,  -2.06128011, -59.12648381,\n",
       "        40.74643718, -25.43866022,  58.53515693,  28.28266813,\n",
       "       -46.54907558, -16.72087503, -62.91956515,  13.9354961 ,\n",
       "       -58.74897633,  23.2003087 ])"
      ]
     },
     "execution_count": 20,
     "metadata": {},
     "output_type": "execute_result"
    }
   ],
   "source": [
    "# Add size parameter for number of iterations\n",
    "np.random.uniform(-90.000, 90.000, size=50)"
   ]
  },
  {
   "cell_type": "code",
   "execution_count": 21,
   "id": "597463d3",
   "metadata": {},
   "outputs": [],
   "source": [
    "# Import timeit.\n",
    "import timeit"
   ]
  },
  {
   "cell_type": "code",
   "execution_count": 22,
   "id": "82ed82d8",
   "metadata": {},
   "outputs": [
    {
     "name": "stdout",
     "output_type": "stream",
     "text": [
      "9.37 µs ± 110 ns per loop (mean ± std. dev. of 7 runs, 100000 loops each)\n"
     ]
    }
   ],
   "source": [
    "# Time the function\n",
    "%timeit np.random.uniform(-90.000, 90.000, size=1500)"
   ]
  },
  {
   "cell_type": "code",
   "execution_count": 23,
   "id": "b703cd30",
   "metadata": {},
   "outputs": [
    {
     "name": "stdout",
     "output_type": "stream",
     "text": [
      "1.12 ms ± 4.26 µs per loop (mean ± std. dev. of 7 runs, 1000 loops each)\n"
     ]
    }
   ],
   "source": [
    "def latitudes(size):\n",
    "    latitudes = []\n",
    "    x = 0\n",
    "    while x < (size):\n",
    "        random_lat = random.randint(-90, 90) + random.random()\n",
    "        latitudes.append(random_lat)\n",
    "        x += 1\n",
    "    return latitudes\n",
    "# Call the function with 1500.\n",
    "%timeit latitudes(1500)"
   ]
  },
  {
   "cell_type": "code",
   "execution_count": null,
   "id": "0ac6f00c",
   "metadata": {},
   "outputs": [],
   "source": []
  }
 ],
 "metadata": {
  "kernelspec": {
   "display_name": "PythonData",
   "language": "python",
   "name": "pythondata"
  },
  "language_info": {
   "codemirror_mode": {
    "name": "ipython",
    "version": 3
   },
   "file_extension": ".py",
   "mimetype": "text/x-python",
   "name": "python",
   "nbconvert_exporter": "python",
   "pygments_lexer": "ipython3",
   "version": "3.7.13"
  }
 },
 "nbformat": 4,
 "nbformat_minor": 5
}

{
 "cells": [
  {
   "cell_type": "markdown",
   "metadata": {},
   "source": [
    "## Deliverable 3. Create a Travel Itinerary Map."
   ]
  },
  {
   "cell_type": "code",
   "execution_count": 1,
   "metadata": {},
   "outputs": [],
   "source": [
    "# Dependencies and Setup\n",
    "import pandas as pd\n",
    "import requests\n",
    "import gmaps\n",
    "import sys\n",
    "sys.path.append(\"../\")\n",
    "\n",
    "# Import API key\n",
    "from config import g_key\n",
    "\n",
    "# Configure gmaps\n",
    "gmaps.configure(api_key=g_key)"
   ]
  },
  {
   "cell_type": "code",
   "execution_count": 3,
   "metadata": {},
   "outputs": [
    {
     "data": {
      "text/html": [
       "<div>\n",
       "<style scoped>\n",
       "    .dataframe tbody tr th:only-of-type {\n",
       "        vertical-align: middle;\n",
       "    }\n",
       "\n",
       "    .dataframe tbody tr th {\n",
       "        vertical-align: top;\n",
       "    }\n",
       "\n",
       "    .dataframe thead th {\n",
       "        text-align: right;\n",
       "    }\n",
       "</style>\n",
       "<table border=\"1\" class=\"dataframe\">\n",
       "  <thead>\n",
       "    <tr style=\"text-align: right;\">\n",
       "      <th></th>\n",
       "      <th>City_ID</th>\n",
       "      <th>City</th>\n",
       "      <th>Country</th>\n",
       "      <th>Max Temp</th>\n",
       "      <th>Current Description</th>\n",
       "      <th>Lat</th>\n",
       "      <th>Lng</th>\n",
       "      <th>Hotel Name</th>\n",
       "    </tr>\n",
       "  </thead>\n",
       "  <tbody>\n",
       "    <tr>\n",
       "      <th>0</th>\n",
       "      <td>0</td>\n",
       "      <td>Venice</td>\n",
       "      <td>US</td>\n",
       "      <td>84.22</td>\n",
       "      <td>haze</td>\n",
       "      <td>27.0998</td>\n",
       "      <td>-82.4543</td>\n",
       "      <td>A Beach Retreat On Casey Key</td>\n",
       "    </tr>\n",
       "    <tr>\n",
       "      <th>1</th>\n",
       "      <td>8</td>\n",
       "      <td>Saint George</td>\n",
       "      <td>US</td>\n",
       "      <td>75.79</td>\n",
       "      <td>clear sky</td>\n",
       "      <td>37.1041</td>\n",
       "      <td>-113.5841</td>\n",
       "      <td>Best Western Plus Abbey Inn</td>\n",
       "    </tr>\n",
       "    <tr>\n",
       "      <th>2</th>\n",
       "      <td>11</td>\n",
       "      <td>Praia</td>\n",
       "      <td>CV</td>\n",
       "      <td>80.02</td>\n",
       "      <td>clear sky</td>\n",
       "      <td>14.9215</td>\n",
       "      <td>-23.5087</td>\n",
       "      <td>LT Aparthotel</td>\n",
       "    </tr>\n",
       "    <tr>\n",
       "      <th>3</th>\n",
       "      <td>16</td>\n",
       "      <td>Lorengau</td>\n",
       "      <td>PG</td>\n",
       "      <td>81.64</td>\n",
       "      <td>scattered clouds</td>\n",
       "      <td>-2.0226</td>\n",
       "      <td>147.2712</td>\n",
       "      <td>Lorengau Harbourside Hotel</td>\n",
       "    </tr>\n",
       "    <tr>\n",
       "      <th>4</th>\n",
       "      <td>17</td>\n",
       "      <td>Bata</td>\n",
       "      <td>GQ</td>\n",
       "      <td>75.58</td>\n",
       "      <td>light rain</td>\n",
       "      <td>1.8639</td>\n",
       "      <td>9.7658</td>\n",
       "      <td>Hotel Elik Melen</td>\n",
       "    </tr>\n",
       "  </tbody>\n",
       "</table>\n",
       "</div>"
      ],
      "text/plain": [
       "   City_ID          City Country  Max Temp Current Description      Lat  \\\n",
       "0        0        Venice      US     84.22                haze  27.0998   \n",
       "1        8  Saint George      US     75.79           clear sky  37.1041   \n",
       "2       11         Praia      CV     80.02           clear sky  14.9215   \n",
       "3       16      Lorengau      PG     81.64    scattered clouds  -2.0226   \n",
       "4       17          Bata      GQ     75.58          light rain   1.8639   \n",
       "\n",
       "        Lng                    Hotel Name  \n",
       "0  -82.4543  A Beach Retreat On Casey Key  \n",
       "1 -113.5841   Best Western Plus Abbey Inn  \n",
       "2  -23.5087                 LT Aparthotel  \n",
       "3  147.2712    Lorengau Harbourside Hotel  \n",
       "4    9.7658              Hotel Elik Melen  "
      ]
     },
     "execution_count": 3,
     "metadata": {},
     "output_type": "execute_result"
    }
   ],
   "source": [
    "# 1. Read the WeatherPy_vacation.csv into a DataFrame.\n",
    "vacation_df = pd.read_csv(\"../Vacation_Search/WeatherPy_vacation.csv\")\n",
    "vacation_df.head()"
   ]
  },
  {
   "cell_type": "code",
   "execution_count": 4,
   "metadata": {},
   "outputs": [],
   "source": [
    "# 2. Using the template add the city name, the country code, the weather description and maximum temperature for the city.\n",
    "info_box_template = \"\"\"\n",
    "        <dl>\n",
    "        <dt><b>Hotel Name</b></dt><dd>{Hotel Name}</dd>\n",
    "        <dt><b>City</b></dt><dd>{City}</dd>\n",
    "        <dt><b>Country</b></dt><dd>{Country}</dd>\n",
    "        <dt><b>Weather description</b></dt><dd>{Current Description} and {Max Temp} °F</dd>\n",
    "        </dl>\n",
    "\"\"\"\n",
    "\n",
    "# 3a. Get the data from each row and add it to the formatting template and store the data in a list.\n",
    "hotel_info = [info_box_template.format(**row) for index, row in vacation_df.iterrows()]\n",
    "\n",
    "# 3b. Get the latitude and longitude from each row and store in a new DataFrame.\n",
    "locations = vacation_df[[\"Lat\", \"Lng\"]]"
   ]
  },
  {
   "cell_type": "code",
   "execution_count": 5,
   "metadata": {},
   "outputs": [
    {
     "data": {
      "application/vnd.jupyter.widget-view+json": {
       "model_id": "688f71367ace468eb664302f63266049",
       "version_major": 2,
       "version_minor": 0
      },
      "text/plain": [
       "Figure(layout=FigureLayout(height='420px'))"
      ]
     },
     "metadata": {},
     "output_type": "display_data"
    }
   ],
   "source": [
    "# Add a heatmap of temperature for the vacation spots.\n",
    "max_temp = vacation_df[\"Max Temp\"]\n",
    "fig = gmaps.figure(center=(30.0, 31.0), zoom_level=1.5)\n",
    "heat_layer = gmaps.heatmap_layer(locations, weights=max_temp, \n",
    "                                 dissipating=False,\n",
    "             max_intensity=300, point_radius=4)\n",
    "\n",
    "# 4a. Add a marker layer for each city to the map.\n",
    "marker_layer = gmaps.marker_layer(locations, info_box_content=hotel_info)\n",
    "\n",
    "fig.add_layer(heat_layer)\n",
    "fig.add_layer(marker_layer)\n",
    "# 4b. Display the figure\n",
    "fig\n"
   ]
  },
  {
   "cell_type": "code",
   "execution_count": 7,
   "metadata": {},
   "outputs": [
    {
     "data": {
      "text/html": [
       "<div>\n",
       "<style scoped>\n",
       "    .dataframe tbody tr th:only-of-type {\n",
       "        vertical-align: middle;\n",
       "    }\n",
       "\n",
       "    .dataframe tbody tr th {\n",
       "        vertical-align: top;\n",
       "    }\n",
       "\n",
       "    .dataframe thead th {\n",
       "        text-align: right;\n",
       "    }\n",
       "</style>\n",
       "<table border=\"1\" class=\"dataframe\">\n",
       "  <thead>\n",
       "    <tr style=\"text-align: right;\">\n",
       "      <th></th>\n",
       "      <th>City_ID</th>\n",
       "      <th>City</th>\n",
       "      <th>Country</th>\n",
       "      <th>Max Temp</th>\n",
       "      <th>Current Description</th>\n",
       "      <th>Lat</th>\n",
       "      <th>Lng</th>\n",
       "      <th>Hotel Name</th>\n",
       "    </tr>\n",
       "  </thead>\n",
       "  <tbody>\n",
       "    <tr>\n",
       "      <th>0</th>\n",
       "      <td>581</td>\n",
       "      <td>Freeport</td>\n",
       "      <td>US</td>\n",
       "      <td>80.58</td>\n",
       "      <td>clear sky</td>\n",
       "      <td>40.6576</td>\n",
       "      <td>-73.5832</td>\n",
       "      <td>The Freeport Inn and Marina</td>\n",
       "    </tr>\n",
       "  </tbody>\n",
       "</table>\n",
       "</div>"
      ],
      "text/plain": [
       "   City_ID      City Country  Max Temp Current Description      Lat      Lng  \\\n",
       "0      581  Freeport      US     80.58           clear sky  40.6576 -73.5832   \n",
       "\n",
       "                    Hotel Name  \n",
       "0  The Freeport Inn and Marina  "
      ]
     },
     "execution_count": 7,
     "metadata": {},
     "output_type": "execute_result"
    }
   ],
   "source": [
    "# From the map above pick 4 cities and create a vacation itinerary route to travel between the four cities. \n",
    "# 5. Create DataFrames for each city by filtering the 'vacation_df' using the loc method. \n",
    "# Hint: The starting and ending city should be the same city.\n",
    "\n",
    "vacation_start = vacation_df.loc[vacation_df['City'] == 'Freeport'].reset_index(drop=True)\n",
    "vacation_end = vacation_start\n",
    "vacation_stop1 = vacation_df.loc[vacation_df['City'] == 'Fairview'].reset_index(drop=True)\n",
    "vacation_stop2 = vacation_df.loc[vacation_df['City'] == 'Westport'].reset_index(drop=True) \n",
    "vacation_stop3 = vacation_df.loc[vacation_df['City'] == 'Bethel'].reset_index(drop=True)\n",
    "vacation_start"
   ]
  },
  {
   "cell_type": "code",
   "execution_count": 8,
   "metadata": {},
   "outputs": [
    {
     "data": {
      "text/plain": [
       "array([ 40.6576, -73.5832])"
      ]
     },
     "execution_count": 8,
     "metadata": {},
     "output_type": "execute_result"
    }
   ],
   "source": [
    "# 6. Get the latitude-longitude pairs as tuples from each city DataFrame using the to_numpy function and list indexing.\n",
    "start = vacation_start[['Lat', 'Lng']].loc[0].to_numpy()\n",
    "stop1 = vacation_stop1[['Lat', 'Lng']].loc[0].to_numpy()\n",
    "stop2 = vacation_stop2[['Lat', 'Lng']].loc[0].to_numpy()\n",
    "stop3 = vacation_stop3[['Lat', 'Lng']].loc[0].to_numpy()\n",
    "end = start\n",
    "start"
   ]
  },
  {
   "cell_type": "code",
   "execution_count": 9,
   "metadata": {
    "scrolled": true
   },
   "outputs": [
    {
     "data": {
      "application/vnd.jupyter.widget-view+json": {
       "model_id": "924ac021f5bc4b91acabc55b68c3992a",
       "version_major": 2,
       "version_minor": 0
      },
      "text/plain": [
       "Figure(layout=FigureLayout(height='420px'))"
      ]
     },
     "metadata": {},
     "output_type": "display_data"
    }
   ],
   "source": [
    "# 7. Create a direction layer map using the start and end latitude-longitude pairs,\n",
    "# and stop1, stop2, and stop3 as the waypoints. The travel_mode should be \"DRIVING\", \"BICYCLING\", or \"WALKING\".\n",
    "fig = gmaps.figure()\n",
    "waypoints=[stop1, stop2, stop3]\n",
    "route = gmaps.directions_layer(start, end, waypoints=waypoints,travel_mode='DRIVING')\n",
    "fig.add_layer(route)\n",
    "fig\n"
   ]
  },
  {
   "cell_type": "code",
   "execution_count": 10,
   "metadata": {},
   "outputs": [
    {
     "data": {
      "text/html": [
       "<div>\n",
       "<style scoped>\n",
       "    .dataframe tbody tr th:only-of-type {\n",
       "        vertical-align: middle;\n",
       "    }\n",
       "\n",
       "    .dataframe tbody tr th {\n",
       "        vertical-align: top;\n",
       "    }\n",
       "\n",
       "    .dataframe thead th {\n",
       "        text-align: right;\n",
       "    }\n",
       "</style>\n",
       "<table border=\"1\" class=\"dataframe\">\n",
       "  <thead>\n",
       "    <tr style=\"text-align: right;\">\n",
       "      <th></th>\n",
       "      <th>City_ID</th>\n",
       "      <th>City</th>\n",
       "      <th>Country</th>\n",
       "      <th>Max Temp</th>\n",
       "      <th>Current Description</th>\n",
       "      <th>Lat</th>\n",
       "      <th>Lng</th>\n",
       "      <th>Hotel Name</th>\n",
       "    </tr>\n",
       "  </thead>\n",
       "  <tbody>\n",
       "    <tr>\n",
       "      <th>0</th>\n",
       "      <td>581</td>\n",
       "      <td>Freeport</td>\n",
       "      <td>US</td>\n",
       "      <td>80.58</td>\n",
       "      <td>clear sky</td>\n",
       "      <td>40.6576</td>\n",
       "      <td>-73.5832</td>\n",
       "      <td>The Freeport Inn and Marina</td>\n",
       "    </tr>\n",
       "    <tr>\n",
       "      <th>1</th>\n",
       "      <td>680</td>\n",
       "      <td>Fairview</td>\n",
       "      <td>US</td>\n",
       "      <td>80.56</td>\n",
       "      <td>clear sky</td>\n",
       "      <td>40.8126</td>\n",
       "      <td>-73.9990</td>\n",
       "      <td>Homewood Suites by Hilton Edgewater-NYC Area</td>\n",
       "    </tr>\n",
       "    <tr>\n",
       "      <th>2</th>\n",
       "      <td>587</td>\n",
       "      <td>Westport</td>\n",
       "      <td>US</td>\n",
       "      <td>81.73</td>\n",
       "      <td>clear sky</td>\n",
       "      <td>41.1415</td>\n",
       "      <td>-73.3579</td>\n",
       "      <td>The Westport Inn</td>\n",
       "    </tr>\n",
       "    <tr>\n",
       "      <th>3</th>\n",
       "      <td>171</td>\n",
       "      <td>Bethel</td>\n",
       "      <td>US</td>\n",
       "      <td>80.47</td>\n",
       "      <td>scattered clouds</td>\n",
       "      <td>41.3712</td>\n",
       "      <td>-73.4140</td>\n",
       "      <td>Courtyard by Marriott Danbury</td>\n",
       "    </tr>\n",
       "  </tbody>\n",
       "</table>\n",
       "</div>"
      ],
      "text/plain": [
       "   City_ID      City Country  Max Temp Current Description      Lat      Lng  \\\n",
       "0      581  Freeport      US     80.58           clear sky  40.6576 -73.5832   \n",
       "1      680  Fairview      US     80.56           clear sky  40.8126 -73.9990   \n",
       "2      587  Westport      US     81.73           clear sky  41.1415 -73.3579   \n",
       "3      171    Bethel      US     80.47    scattered clouds  41.3712 -73.4140   \n",
       "\n",
       "                                     Hotel Name  \n",
       "0                   The Freeport Inn and Marina  \n",
       "1  Homewood Suites by Hilton Edgewater-NYC Area  \n",
       "2                              The Westport Inn  \n",
       "3                 Courtyard by Marriott Danbury  "
      ]
     },
     "execution_count": 10,
     "metadata": {},
     "output_type": "execute_result"
    }
   ],
   "source": [
    "# 8. To create a marker layer map between the four cities.\n",
    "#  Combine the four city DataFrames into one DataFrame using the concat() function.\n",
    "itinerary_df = pd.concat([vacation_start, vacation_stop1, vacation_stop2, vacation_stop3],ignore_index=True)\n",
    "itinerary_df"
   ]
  },
  {
   "cell_type": "code",
   "execution_count": 11,
   "metadata": {},
   "outputs": [],
   "source": [
    "# 9 Using the template add city name, the country code, the weather description and maximum temperature for the city. \n",
    "info_box_template = \"\"\"\n",
    "        <dl>\n",
    "        <dt><b>Hotel Name</b></dt><dd>{Hotel Name}</dd>\n",
    "        <dt><b>City</b></dt><dd>{City}</dd>\n",
    "        <dt><b>Country</b></dt><dd>{Country}</dd>\n",
    "        <dt><b>Weather description</b></dt><dd>{Current Description} and {Max Temp} °F</dd>\n",
    "        </dl>\n",
    "\"\"\"\n",
    "\n",
    "# 10a Get the data from each row and add it to the formatting template and store the data in a list.\n",
    "hotel_info = [info_box_template.format(**row) for index, row in itinerary_df.iterrows()]\n",
    "\n",
    "# 10b. Get the latitude and longitude from each row and store in a new DataFrame.\n",
    "locations = itinerary_df[[\"Lat\", \"Lng\"]]"
   ]
  },
  {
   "cell_type": "code",
   "execution_count": 12,
   "metadata": {},
   "outputs": [
    {
     "data": {
      "application/vnd.jupyter.widget-view+json": {
       "model_id": "043f610dd93b4ddda5604a408e48715c",
       "version_major": 2,
       "version_minor": 0
      },
      "text/plain": [
       "Figure(layout=FigureLayout(height='420px'))"
      ]
     },
     "metadata": {},
     "output_type": "display_data"
    }
   ],
   "source": [
    "# 11a. Add a marker layer for each city to the map.\n",
    "fig = gmaps.figure()\n",
    "marker_layer = gmaps.marker_layer(locations, info_box_content=hotel_info)\n",
    "fig.add_layer(marker_layer)\n",
    "# 11b. Display the figure\n",
    "fig"
   ]
  },
  {
   "cell_type": "code",
   "execution_count": null,
   "metadata": {},
   "outputs": [],
   "source": []
  }
 ],
 "metadata": {
  "kernelspec": {
   "display_name": "PythonData",
   "language": "python",
   "name": "pythondata"
  },
  "language_info": {
   "codemirror_mode": {
    "name": "ipython",
    "version": 3
   },
   "file_extension": ".py",
   "mimetype": "text/x-python",
   "name": "python",
   "nbconvert_exporter": "python",
   "pygments_lexer": "ipython3",
   "version": "3.7.13"
  },
  "latex_envs": {
   "LaTeX_envs_menu_present": true,
   "autoclose": false,
   "autocomplete": true,
   "bibliofile": "biblio.bib",
   "cite_by": "apalike",
   "current_citInitial": 1,
   "eqLabelWithNumbers": true,
   "eqNumInitial": 1,
   "hotkeys": {
    "equation": "Ctrl-E",
    "itemize": "Ctrl-I"
   },
   "labels_anchors": false,
   "latex_user_defs": false,
   "report_style_numbering": false,
   "user_envs_cfg": false
  }
 },
 "nbformat": 4,
 "nbformat_minor": 2
}
